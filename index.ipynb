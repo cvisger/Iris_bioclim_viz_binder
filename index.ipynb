{
 "cells": [
  {
   "cell_type": "markdown",
   "metadata": {},
   "source": [
    "# Learning to visualize data using a sample Iris bioclim dataset\n",
    "    - First we need to load python packages to use\n",
    "    - we use the function import to load\n",
    "    - the function as lets us assign an abreviation for package\n",
    "    "
   ]
  },
  {
   "cell_type": "code",
   "execution_count": 23,
   "metadata": {
    "scrolled": true
   },
   "outputs": [
    {
     "name": "stdout",
     "output_type": "stream",
     "text": [
      "/Users/claytonvisger/Desktop/iris\r\n"
     ]
    }
   ],
   "source": [
    "import pandas as pd\n",
    "import numpy as np\n",
    "import matplotlib.pyplot as plt\n",
    "from matplotlib.backends.backend_pdf import PdfPages\n",
    "%matplotlib inline\n",
    "!pwd  #calls our current directory"
   ]
  },
  {
   "cell_type": "markdown",
   "metadata": {},
   "source": [
    "# Step 1 load the data\n",
    "    - Load in a dataset and save it as a dataframe named 'df \n",
    "    - use the .head() function on df to look at the top rows"
   ]
  },
  {
   "cell_type": "code",
   "execution_count": 24,
   "metadata": {
    "scrolled": true
   },
   "outputs": [
    {
     "data": {
      "text/html": [
       "<div>\n",
       "<table border=\"1\" class=\"dataframe\">\n",
       "  <thead>\n",
       "    <tr style=\"text-align: right;\">\n",
       "      <th></th>\n",
       "      <th>lon</th>\n",
       "      <th>lat</th>\n",
       "      <th>species</th>\n",
       "      <th>bio_18</th>\n",
       "      <th>bio_13</th>\n",
       "      <th>bio_17</th>\n",
       "      <th>bio_19</th>\n",
       "      <th>bio_14</th>\n",
       "      <th>bio_12</th>\n",
       "      <th>bio_15</th>\n",
       "      <th>...</th>\n",
       "      <th>bio_8</th>\n",
       "      <th>bio_9</th>\n",
       "      <th>bio_6</th>\n",
       "      <th>bio_7</th>\n",
       "      <th>bio_4</th>\n",
       "      <th>bio_5</th>\n",
       "      <th>bio_2</th>\n",
       "      <th>bio_3</th>\n",
       "      <th>bio_16</th>\n",
       "      <th>bio_1</th>\n",
       "    </tr>\n",
       "  </thead>\n",
       "  <tbody>\n",
       "    <tr>\n",
       "      <th>0</th>\n",
       "      <td>-82.736534</td>\n",
       "      <td>29.323601</td>\n",
       "      <td>Iris hexagona SS</td>\n",
       "      <td>587</td>\n",
       "      <td>217</td>\n",
       "      <td>192</td>\n",
       "      <td>274</td>\n",
       "      <td>51</td>\n",
       "      <td>1387</td>\n",
       "      <td>47</td>\n",
       "      <td>...</td>\n",
       "      <td>269</td>\n",
       "      <td>177</td>\n",
       "      <td>58</td>\n",
       "      <td>272</td>\n",
       "      <td>5246</td>\n",
       "      <td>330</td>\n",
       "      <td>136</td>\n",
       "      <td>50</td>\n",
       "      <td>587</td>\n",
       "      <td>206</td>\n",
       "    </tr>\n",
       "    <tr>\n",
       "      <th>1</th>\n",
       "      <td>-82.859842</td>\n",
       "      <td>29.474962</td>\n",
       "      <td>Iris hexagona SS</td>\n",
       "      <td>479</td>\n",
       "      <td>176</td>\n",
       "      <td>171</td>\n",
       "      <td>247</td>\n",
       "      <td>41</td>\n",
       "      <td>1155</td>\n",
       "      <td>44</td>\n",
       "      <td>...</td>\n",
       "      <td>267</td>\n",
       "      <td>173</td>\n",
       "      <td>54</td>\n",
       "      <td>275</td>\n",
       "      <td>5306</td>\n",
       "      <td>329</td>\n",
       "      <td>137</td>\n",
       "      <td>49</td>\n",
       "      <td>479</td>\n",
       "      <td>204</td>\n",
       "    </tr>\n",
       "    <tr>\n",
       "      <th>2</th>\n",
       "      <td>-82.631494</td>\n",
       "      <td>29.094935</td>\n",
       "      <td>Iris hexagona SS</td>\n",
       "      <td>580</td>\n",
       "      <td>211</td>\n",
       "      <td>190</td>\n",
       "      <td>258</td>\n",
       "      <td>56</td>\n",
       "      <td>1369</td>\n",
       "      <td>46</td>\n",
       "      <td>...</td>\n",
       "      <td>269</td>\n",
       "      <td>181</td>\n",
       "      <td>64</td>\n",
       "      <td>266</td>\n",
       "      <td>5066</td>\n",
       "      <td>330</td>\n",
       "      <td>133</td>\n",
       "      <td>50</td>\n",
       "      <td>580</td>\n",
       "      <td>209</td>\n",
       "    </tr>\n",
       "    <tr>\n",
       "      <th>3</th>\n",
       "      <td>-82.757500</td>\n",
       "      <td>29.373056</td>\n",
       "      <td>Iris hexagona SS</td>\n",
       "      <td>589</td>\n",
       "      <td>218</td>\n",
       "      <td>192</td>\n",
       "      <td>277</td>\n",
       "      <td>50</td>\n",
       "      <td>1391</td>\n",
       "      <td>47</td>\n",
       "      <td>...</td>\n",
       "      <td>267</td>\n",
       "      <td>176</td>\n",
       "      <td>57</td>\n",
       "      <td>273</td>\n",
       "      <td>5194</td>\n",
       "      <td>330</td>\n",
       "      <td>137</td>\n",
       "      <td>50</td>\n",
       "      <td>589</td>\n",
       "      <td>206</td>\n",
       "    </tr>\n",
       "    <tr>\n",
       "      <th>4</th>\n",
       "      <td>-82.757500</td>\n",
       "      <td>29.373056</td>\n",
       "      <td>Iris hexagona SS</td>\n",
       "      <td>589</td>\n",
       "      <td>218</td>\n",
       "      <td>192</td>\n",
       "      <td>277</td>\n",
       "      <td>50</td>\n",
       "      <td>1391</td>\n",
       "      <td>47</td>\n",
       "      <td>...</td>\n",
       "      <td>267</td>\n",
       "      <td>176</td>\n",
       "      <td>57</td>\n",
       "      <td>273</td>\n",
       "      <td>5194</td>\n",
       "      <td>330</td>\n",
       "      <td>137</td>\n",
       "      <td>50</td>\n",
       "      <td>589</td>\n",
       "      <td>206</td>\n",
       "    </tr>\n",
       "  </tbody>\n",
       "</table>\n",
       "<p>5 rows × 22 columns</p>\n",
       "</div>"
      ],
      "text/plain": [
       "         lon        lat           species  bio_18  bio_13  bio_17  bio_19  \\\n",
       "0 -82.736534  29.323601  Iris hexagona SS     587     217     192     274   \n",
       "1 -82.859842  29.474962  Iris hexagona SS     479     176     171     247   \n",
       "2 -82.631494  29.094935  Iris hexagona SS     580     211     190     258   \n",
       "3 -82.757500  29.373056  Iris hexagona SS     589     218     192     277   \n",
       "4 -82.757500  29.373056  Iris hexagona SS     589     218     192     277   \n",
       "\n",
       "   bio_14  bio_12  bio_15  ...    bio_8  bio_9  bio_6  bio_7  bio_4  bio_5  \\\n",
       "0      51    1387      47  ...      269    177     58    272   5246    330   \n",
       "1      41    1155      44  ...      267    173     54    275   5306    329   \n",
       "2      56    1369      46  ...      269    181     64    266   5066    330   \n",
       "3      50    1391      47  ...      267    176     57    273   5194    330   \n",
       "4      50    1391      47  ...      267    176     57    273   5194    330   \n",
       "\n",
       "   bio_2  bio_3  bio_16  bio_1  \n",
       "0    136     50     587    206  \n",
       "1    137     49     479    204  \n",
       "2    133     50     580    209  \n",
       "3    137     50     589    206  \n",
       "4    137     50     589    206  \n",
       "\n",
       "[5 rows x 22 columns]"
      ]
     },
     "execution_count": 24,
     "metadata": {},
     "output_type": "execute_result"
    }
   ],
   "source": [
    "df = pd.read_csv(\"Iris_bioclim_val.csv\", sep=\",\")\n",
    "df.head()"
   ]
  },
  {
   "cell_type": "markdown",
   "metadata": {},
   "source": [
    "# Dealing with duplicates\n",
    "    - notice rows 3 and 4 are duplicate occurences.  We need to remove these.\n",
    "The resolution of bioclim layers is ~1sq kilometer. so we don't want multiple points within the same grid square.  Just to be on the conservative side we will round lat/lon to 3 decimal places and remove anything duplicated"
   ]
  },
  {
   "cell_type": "code",
   "execution_count": 25,
   "metadata": {
    "scrolled": true
   },
   "outputs": [
    {
     "data": {
      "text/html": [
       "<div>\n",
       "<table border=\"1\" class=\"dataframe\">\n",
       "  <thead>\n",
       "    <tr style=\"text-align: right;\">\n",
       "      <th></th>\n",
       "      <th>lon</th>\n",
       "      <th>lat</th>\n",
       "      <th>species</th>\n",
       "      <th>bio_18</th>\n",
       "      <th>bio_13</th>\n",
       "      <th>bio_17</th>\n",
       "      <th>bio_19</th>\n",
       "      <th>bio_14</th>\n",
       "      <th>bio_12</th>\n",
       "      <th>bio_15</th>\n",
       "      <th>...</th>\n",
       "      <th>bio_8</th>\n",
       "      <th>bio_9</th>\n",
       "      <th>bio_6</th>\n",
       "      <th>bio_7</th>\n",
       "      <th>bio_4</th>\n",
       "      <th>bio_5</th>\n",
       "      <th>bio_2</th>\n",
       "      <th>bio_3</th>\n",
       "      <th>bio_16</th>\n",
       "      <th>bio_1</th>\n",
       "    </tr>\n",
       "  </thead>\n",
       "  <tbody>\n",
       "    <tr>\n",
       "      <th>0</th>\n",
       "      <td>-82.737</td>\n",
       "      <td>29.324</td>\n",
       "      <td>Iris hexagona SS</td>\n",
       "      <td>587</td>\n",
       "      <td>217</td>\n",
       "      <td>192</td>\n",
       "      <td>274</td>\n",
       "      <td>51</td>\n",
       "      <td>1387</td>\n",
       "      <td>47</td>\n",
       "      <td>...</td>\n",
       "      <td>269</td>\n",
       "      <td>177</td>\n",
       "      <td>58</td>\n",
       "      <td>272</td>\n",
       "      <td>5246</td>\n",
       "      <td>330</td>\n",
       "      <td>136</td>\n",
       "      <td>50</td>\n",
       "      <td>587</td>\n",
       "      <td>206</td>\n",
       "    </tr>\n",
       "    <tr>\n",
       "      <th>1</th>\n",
       "      <td>-82.860</td>\n",
       "      <td>29.475</td>\n",
       "      <td>Iris hexagona SS</td>\n",
       "      <td>479</td>\n",
       "      <td>176</td>\n",
       "      <td>171</td>\n",
       "      <td>247</td>\n",
       "      <td>41</td>\n",
       "      <td>1155</td>\n",
       "      <td>44</td>\n",
       "      <td>...</td>\n",
       "      <td>267</td>\n",
       "      <td>173</td>\n",
       "      <td>54</td>\n",
       "      <td>275</td>\n",
       "      <td>5306</td>\n",
       "      <td>329</td>\n",
       "      <td>137</td>\n",
       "      <td>49</td>\n",
       "      <td>479</td>\n",
       "      <td>204</td>\n",
       "    </tr>\n",
       "    <tr>\n",
       "      <th>2</th>\n",
       "      <td>-82.631</td>\n",
       "      <td>29.095</td>\n",
       "      <td>Iris hexagona SS</td>\n",
       "      <td>580</td>\n",
       "      <td>211</td>\n",
       "      <td>190</td>\n",
       "      <td>258</td>\n",
       "      <td>56</td>\n",
       "      <td>1369</td>\n",
       "      <td>46</td>\n",
       "      <td>...</td>\n",
       "      <td>269</td>\n",
       "      <td>181</td>\n",
       "      <td>64</td>\n",
       "      <td>266</td>\n",
       "      <td>5066</td>\n",
       "      <td>330</td>\n",
       "      <td>133</td>\n",
       "      <td>50</td>\n",
       "      <td>580</td>\n",
       "      <td>209</td>\n",
       "    </tr>\n",
       "    <tr>\n",
       "      <th>3</th>\n",
       "      <td>-82.758</td>\n",
       "      <td>29.373</td>\n",
       "      <td>Iris hexagona SS</td>\n",
       "      <td>589</td>\n",
       "      <td>218</td>\n",
       "      <td>192</td>\n",
       "      <td>277</td>\n",
       "      <td>50</td>\n",
       "      <td>1391</td>\n",
       "      <td>47</td>\n",
       "      <td>...</td>\n",
       "      <td>267</td>\n",
       "      <td>176</td>\n",
       "      <td>57</td>\n",
       "      <td>273</td>\n",
       "      <td>5194</td>\n",
       "      <td>330</td>\n",
       "      <td>137</td>\n",
       "      <td>50</td>\n",
       "      <td>589</td>\n",
       "      <td>206</td>\n",
       "    </tr>\n",
       "    <tr>\n",
       "      <th>6</th>\n",
       "      <td>-83.158</td>\n",
       "      <td>29.611</td>\n",
       "      <td>Iris hexagona SS</td>\n",
       "      <td>349</td>\n",
       "      <td>135</td>\n",
       "      <td>146</td>\n",
       "      <td>203</td>\n",
       "      <td>34</td>\n",
       "      <td>865</td>\n",
       "      <td>42</td>\n",
       "      <td>...</td>\n",
       "      <td>265</td>\n",
       "      <td>168</td>\n",
       "      <td>47</td>\n",
       "      <td>278</td>\n",
       "      <td>5497</td>\n",
       "      <td>325</td>\n",
       "      <td>134</td>\n",
       "      <td>48</td>\n",
       "      <td>349</td>\n",
       "      <td>200</td>\n",
       "    </tr>\n",
       "  </tbody>\n",
       "</table>\n",
       "<p>5 rows × 22 columns</p>\n",
       "</div>"
      ],
      "text/plain": [
       "      lon     lat           species  bio_18  bio_13  bio_17  bio_19  bio_14  \\\n",
       "0 -82.737  29.324  Iris hexagona SS     587     217     192     274      51   \n",
       "1 -82.860  29.475  Iris hexagona SS     479     176     171     247      41   \n",
       "2 -82.631  29.095  Iris hexagona SS     580     211     190     258      56   \n",
       "3 -82.758  29.373  Iris hexagona SS     589     218     192     277      50   \n",
       "6 -83.158  29.611  Iris hexagona SS     349     135     146     203      34   \n",
       "\n",
       "   bio_12  bio_15  ...    bio_8  bio_9  bio_6  bio_7  bio_4  bio_5  bio_2  \\\n",
       "0    1387      47  ...      269    177     58    272   5246    330    136   \n",
       "1    1155      44  ...      267    173     54    275   5306    329    137   \n",
       "2    1369      46  ...      269    181     64    266   5066    330    133   \n",
       "3    1391      47  ...      267    176     57    273   5194    330    137   \n",
       "6     865      42  ...      265    168     47    278   5497    325    134   \n",
       "\n",
       "   bio_3  bio_16  bio_1  \n",
       "0     50     587    206  \n",
       "1     49     479    204  \n",
       "2     50     580    209  \n",
       "3     50     589    206  \n",
       "6     48     349    200  \n",
       "\n",
       "[5 rows x 22 columns]"
      ]
     },
     "execution_count": 25,
     "metadata": {},
     "output_type": "execute_result"
    }
   ],
   "source": [
    "df.lon = df.lon.round(3)\n",
    "df.lat = df.lat.round(3)\n",
    "df = df.drop_duplicates(subset=['lat','lon'],keep='first')\n",
    "df.head()"
   ]
  },
  {
   "cell_type": "markdown",
   "metadata": {},
   "source": [
    "# Now that our dataset is deduplicated we can start to explore the dataset\n",
    "    -Similair to using .head(), we can use .boxplot() function\n",
    "        \n",
    "    -Let's look at the first bioclim variable (column bio_1), and group by species\n",
    "            "
   ]
  },
  {
   "cell_type": "code",
   "execution_count": 4,
   "metadata": {
    "scrolled": true
   },
   "outputs": [
    {
     "data": {
      "text/plain": [
       "<matplotlib.axes._subplots.AxesSubplot at 0x1170e7438>"
      ]
     },
     "execution_count": 4,
     "metadata": {},
     "output_type": "execute_result"
    },
    {
     "data": {
      "image/png": "[encoded data removed]",
      "text/plain": [
       "<matplotlib.figure.Figure at 0x1170e79b0>"
      ]
     },
     "metadata": {},
     "output_type": "display_data"
    }
   ],
   "source": [
    "df.boxplot(column='bio_1', by='species')"
   ]
  },
  {
   "cell_type": "markdown",
   "metadata": {},
   "source": [
    "# Using a For loop to automate graphing\n",
    "    - We have 19 different variables, so it would be tedius to code each plot\n",
    "    - We can write a loop that will iterate through each column, adding each as a subplot\n",
    "    - look at the code comments for details \n",
    "            -comments are preceeded by a '#' and will be ignored by python\n",
    "            -try changing values, and commenting out lines of code to see what happens"
   ]
  },
  {
   "cell_type": "code",
   "execution_count": 12,
   "metadata": {},
   "outputs": [
    {
     "data": {
      "image/png": "[encoded data removed]",
      "text/plain": [
       "<matplotlib.figure.Figure at 0x11b4caf98>"
      ]
     },
     "metadata": {},
     "output_type": "display_data"
    }
   ],
   "source": [
    "fig1 = plt.figure(figsize=(6,19)) #We create an empty plot and set the dimensions\n",
    "count=0 # we will make a variable named count to help us below\n",
    "\n",
    "for i in range(4,len(df.columns)): #Here we loop the variable i from a value of 4 to the total number of columns (23)\n",
    "    bio = df.columns[i]   #variable saving the name of column number i  (when i = 5 bio = bio_13)\n",
    "    count += 1  #increase our counter by 1 each iteration through the loop\n",
    "    ax = fig1.add_subplot(9,2,count) #use our count number to set the subplot position \n",
    "    df.boxplot(column=bio, by='species', ax=ax) #plot the subplot\n",
    "    ax.set_xticklabels([]) #cleaning up extra axis labels - it gets messy labeling all subplots\n",
    "    ax.set_xlabel('')\n",
    "fig1.subplots_adjust(hspace=.4) #adjust the spacing\n",
    "plt.savefig('irisplot.pdf')  #save our final plot as a pdf,  we can add the species labels later"
   ]
  },
  {
   "cell_type": "markdown",
   "metadata": {},
   "source": [
    "# PCA methods  -- explainations in progress"
   ]
  },
  {
   "cell_type": "code",
   "execution_count": 6,
   "metadata": {},
   "outputs": [],
   "source": [
    "#split table into data x and species y\n",
    "X= df.ix[:,3:22].values\n",
    "Y= df.ix[:,2].values\n"
   ]
  },
  {
   "cell_type": "markdown",
   "metadata": {},
   "source": [
    "Standardize the data"
   ]
  },
  {
   "cell_type": "code",
   "execution_count": 26,
   "metadata": {},
   "outputs": [
    {
     "data": {
      "text/plain": [
       "array([[ 0.75921903,  0.68710699, -0.54151799, ...,  1.05501958,\n",
       "         0.59578325,  0.08286932],\n",
       "       [-1.47152168, -1.55634815, -1.07648536, ...,  0.70991971,\n",
       "        -1.58012079, -0.11716007],\n",
       "       [ 0.61463398,  0.35879648, -0.59246726, ...,  1.05501958,\n",
       "         0.45475243,  0.38291341],\n",
       "       ..., \n",
       "       [-0.66597643, -0.62613504, -0.6179419 , ...,  0.01971999,\n",
       "        -0.79437766, -0.51721886],\n",
       "       [-2.87606212, -2.48656126, -1.382181  , ...,  0.36481985,\n",
       "        -2.95013444, -0.51721886],\n",
       "       [ 0.32546389,  0.13992281, -0.1339238 , ..., -0.32537987,\n",
       "         0.1726908 , -0.51721886]])"
      ]
     },
     "execution_count": 26,
     "metadata": {},
     "output_type": "execute_result"
    }
   ],
   "source": [
    "from sklearn.preprocessing import StandardScaler\n",
    "X_std = StandardScaler().fit_transform(X.astype(float))\n",
    "X_std"
   ]
  },
  {
   "cell_type": "code",
   "execution_count": 28,
   "metadata": {},
   "outputs": [
    {
     "data": {
      "text/plain": [
       "array([[ 1.01449275,  0.96537025, -0.10372106, -0.11242802, -0.19543767,\n",
       "         0.43374355,  0.47066245,  0.50218909,  0.50976425,  0.65624797,\n",
       "         0.55319549,  0.49291674, -0.4738749 , -0.47366216,  0.07939236,\n",
       "        -0.16926475,  0.43594384,  0.9596755 ,  0.5059749 ],\n",
       "       [ 0.96537025,  1.01449275, -0.16373591, -0.19634657, -0.2078433 ,\n",
       "         0.40168477,  0.52576139,  0.59510598,  0.51918571,  0.66167596,\n",
       "         0.65357607,  0.57377976, -0.55532263, -0.5743219 ,  0.06024544,\n",
       "        -0.16831526,  0.55330078,  0.97275073,  0.59228986],\n",
       "       [-0.10372106, -0.16373591,  1.01449275,  0.94676752,  0.96860588,\n",
       "         0.8212128 , -0.91099479, -0.82334518, -0.45510066, -0.42772368,\n",
       "        -0.53989332, -0.75940325,  0.73356819,  0.85454085, -0.09193997,\n",
       "         0.2091562 , -0.72597883, -0.22430787, -0.81457284],\n",
       "       [-0.11242802, -0.19634657,  0.94676752,  1.01449275,  0.89022597,\n",
       "         0.75119144, -0.92553795, -0.9045395 , -0.66739892, -0.57716366,\n",
       "        -0.43798075, -0.89446321,  0.8817204 ,  0.91363746,  0.04514237,\n",
       "         0.51808991, -0.58519531, -0.29445696, -0.9047629 ],\n",
       "       [-0.19543767, -0.2078433 ,  0.96860588,  0.89022597,  1.01449275,\n",
       "         0.79520556, -0.90897752, -0.78582908, -0.46678358, -0.4632363 ,\n",
       "        -0.49861063, -0.7411267 ,  0.72530071,  0.81236552, -0.00829302,\n",
       "         0.27063614, -0.64132845, -0.26398097, -0.78320338],\n",
       "       [ 0.43374355,  0.40168477,  0.8212128 ,  0.75119144,  0.79520556,\n",
       "         1.01449275, -0.56128096, -0.42264786, -0.10011803, -0.0181633 ,\n",
       "        -0.17299149, -0.38890258,  0.39849526,  0.46594532,  0.15090623,\n",
       "         0.16115349, -0.33056726,  0.35338046, -0.41780346],\n",
       "       [ 0.47066245,  0.52576139, -0.91099479, -0.92553795, -0.90897752,\n",
       "        -0.56128096,  1.01449275,  0.9722885 ,  0.67924103,  0.68215181,\n",
       "         0.67477885,  0.94111134, -0.92998011, -0.98164901, -0.06724206,\n",
       "        -0.42156984,  0.74859187,  0.58850394,  0.96932942],\n",
       "       [ 0.50218909,  0.59510598, -0.82334518, -0.9045395 , -0.78582908,\n",
       "        -0.42264786,  0.9722885 ,  1.01449275,  0.7872161 ,  0.78363823,\n",
       "         0.66167811,  0.99838502, -0.98242329, -1.01027729, -0.03530648,\n",
       "        -0.49958325,  0.743835  ,  0.65349419,  1.01295609],\n",
       "       [ 0.50976425,  0.51918571, -0.45510066, -0.66739892, -0.46678358,\n",
       "        -0.10011803,  0.67924103,  0.7872161 ,  1.01449275,  0.95350957,\n",
       "         0.23630472,  0.85695269, -0.83177069, -0.72922516,  0.06929586,\n",
       "        -0.76984809,  0.25270602,  0.64777803,  0.81231281],\n",
       "       [ 0.65624797,  0.66167596, -0.42772368, -0.57716366, -0.4632363 ,\n",
       "        -0.0181633 ,  0.68215181,  0.78363823,  0.95350957,  1.01449275,\n",
       "         0.39498246,  0.82631275, -0.79702357, -0.73178314,  0.11025841,\n",
       "        -0.61403799,  0.38783226,  0.71857776,  0.80694257],\n",
       "       [ 0.55319549,  0.65357607, -0.53989332, -0.43798075, -0.49861063,\n",
       "        -0.17299149,  0.67477885,  0.66167811,  0.23630472,  0.39498246,\n",
       "         1.01449275,  0.56452204, -0.55778671, -0.69190122, -0.0398291 ,\n",
       "         0.13322404,  0.87421501,  0.57242124,  0.63846891],\n",
       "       [ 0.49291674,  0.57377976, -0.75940325, -0.89446321, -0.7411267 ,\n",
       "        -0.38890258,  0.94111134,  0.99838502,  0.85695269,  0.82631275,\n",
       "         0.56452204,  1.01449275, -1.00782272, -0.98293836, -0.11871505,\n",
       "        -0.64543897,  0.61618278,  0.65166958,  1.0037708 ],\n",
       "       [-0.4738749 , -0.55532263,  0.73356819,  0.8817204 ,  0.72530071,\n",
       "         0.39849526, -0.92998011, -0.98242329, -0.83177069, -0.79702357,\n",
       "        -0.55778671, -1.00782272,  1.01449275,  0.96797757,  0.23327834,\n",
       "         0.68395147, -0.58002349, -0.62897692, -0.98829898],\n",
       "       [-0.47366216, -0.5743219 ,  0.85454085,  0.91363746,  0.81236552,\n",
       "         0.46594532, -0.98164901, -1.01027729, -0.72922516, -0.73178314,\n",
       "        -0.69190122, -0.98293836,  0.96797757,  1.01449275,  0.04130106,\n",
       "         0.44589035, -0.78320051, -0.62263193, -1.00540917],\n",
       "       [ 0.07939236,  0.06024544, -0.09193997,  0.04514237, -0.00829302,\n",
       "         0.15090623, -0.06724206, -0.03530648,  0.06929586,  0.11025841,\n",
       "        -0.0398291 , -0.11871505,  0.23327834,  0.04130106,  1.01449275,\n",
       "         0.4464353 ,  0.20643026,  0.08343142, -0.04049381],\n",
       "       [-0.16926475, -0.16831526,  0.2091562 ,  0.51808991,  0.27063614,\n",
       "         0.16115349, -0.42156984, -0.49958325, -0.76984809, -0.61403799,\n",
       "         0.13322404, -0.64543897,  0.68395147,  0.44589035,  0.4464353 ,\n",
       "         1.01449275,  0.21946401, -0.30183356, -0.53171409],\n",
       "       [ 0.43594384,  0.55330078, -0.72597883, -0.58519531, -0.64132845,\n",
       "        -0.33056726,  0.74859187,  0.743835  ,  0.25270602,  0.38783226,\n",
       "         0.87421501,  0.61618278, -0.58002349, -0.78320051,  0.20643026,\n",
       "         0.21946401,  1.01449275,  0.49200893,  0.7161553 ],\n",
       "       [ 0.9596755 ,  0.97275073, -0.22430787, -0.29445696, -0.26398097,\n",
       "         0.35338046,  0.58850394,  0.65349419,  0.64777803,  0.71857776,\n",
       "         0.57242124,  0.65166958, -0.62897692, -0.62263193,  0.08343142,\n",
       "        -0.30183356,  0.49200893,  1.01449275,  0.65549127],\n",
       "       [ 0.5059749 ,  0.59228986, -0.81457284, -0.9047629 , -0.78320338,\n",
       "        -0.41780346,  0.96932942,  1.01295609,  0.81231281,  0.80694257,\n",
       "         0.63846891,  1.0037708 , -0.98829898, -1.00540917, -0.04049381,\n",
       "        -0.53171409,  0.7161553 ,  0.65549127,  1.01449275]])"
      ]
     },
     "execution_count": 28,
     "metadata": {},
     "output_type": "execute_result"
    }
   ],
   "source": [
    "np.cov(X_std.T)"
   ]
  },
  {
   "cell_type": "code",
   "execution_count": 40,
   "metadata": {},
   "outputs": [
    {
     "data": {
      "text/plain": [
       "array([[  1.62427309e-01,  -4.20495956e-01,   8.29904931e-02,\n",
       "          6.19982717e-02,   4.51784117e-01,  -1.16552275e-01,\n",
       "          9.68384556e-02,   2.02472590e-01,   4.88023414e-01,\n",
       "         -4.08530342e-01,   2.67816960e-01,   3.77202040e-02,\n",
       "          7.03562254e-02,   6.67413460e-03,   1.73759107e-01,\n",
       "          3.15839781e-02,   3.97289834e-02,   4.50312693e-02,\n",
       "          3.63394689e-14],\n",
       "       [  1.82533332e-01,  -4.03420350e-01,   1.15575888e-01,\n",
       "          1.11215774e-01,   1.28621933e-01,   1.05792105e-01,\n",
       "          6.47966029e-02,  -5.93358587e-01,  -4.87762855e-01,\n",
       "         -1.07034494e-02,   3.37943264e-01,  -1.36857583e-01,\n",
       "         -3.78545320e-02,   1.36762928e-01,   1.83080254e-02,\n",
       "         -4.93598077e-02,  -1.21961173e-03,   1.80373443e-02,\n",
       "         -3.50263304e-14],\n",
       "       [ -2.37625666e-01,  -2.80791664e-01,  -1.55605501e-01,\n",
       "          9.60400706e-02,  -1.82770807e-01,  -5.75359508e-02,\n",
       "          8.38898226e-02,  -7.94031682e-02,   1.51094344e-01,\n",
       "          2.52713506e-01,  -6.49108739e-02,  -4.84083235e-01,\n",
       "          5.73393615e-01,  -1.64030787e-01,   1.21604195e-01,\n",
       "          2.57787301e-01,   1.17117149e-01,   7.28501554e-02,\n",
       "          1.12792330e-13],\n",
       "       [ -2.56988729e-01,  -2.45111202e-01,   5.55887373e-02,\n",
       "          8.25332064e-02,   4.46437344e-02,  -2.06122658e-01,\n",
       "          2.11367134e-01,  -1.68215608e-03,   2.65661420e-01,\n",
       "          3.04455771e-01,  -3.32625107e-02,  -2.29061789e-01,\n",
       "         -3.26861256e-01,   2.85908965e-01,  -4.14971889e-01,\n",
       "         -1.68043213e-01,  -2.45337695e-01,  -3.29786217e-01,\n",
       "         -1.40581049e-13],\n",
       "       [ -2.34878462e-01,  -2.51019448e-01,  -1.07364599e-01,\n",
       "          4.52236109e-02,  -5.52716524e-01,   1.89767789e-01,\n",
       "         -9.42189150e-02,   2.35616611e-01,  -1.31710236e-01,\n",
       "         -5.89900154e-01,   6.98153707e-02,  -1.19022161e-01,\n",
       "         -2.03012315e-02,   2.36046726e-01,  -5.94984926e-02,\n",
       "         -9.50202313e-02,  -6.62765204e-02,  -6.99094012e-02,\n",
       "         -5.47986813e-14],\n",
       "       [ -1.18709796e-01,  -4.92078829e-01,  -3.99612178e-02,\n",
       "         -2.75599096e-02,  -1.69630760e-01,   2.20384520e-01,\n",
       "          1.27086292e-02,  -3.90345419e-02,   8.07564877e-02,\n",
       "          1.39346544e-01,  -9.63875994e-02,   3.86275424e-01,\n",
       "         -2.50803316e-01,  -5.76900689e-01,  -1.89653649e-01,\n",
       "         -1.41263299e-02,   9.74413891e-03,   2.14389291e-01,\n",
       "          4.31994764e-14],\n",
       "       [  2.85163970e-01,   8.57774513e-02,   5.69425268e-02,\n",
       "          5.05151408e-02,   2.14285356e-01,   4.19519053e-02,\n",
       "         -6.87983102e-02,   1.77191965e-01,  -1.78119614e-01,\n",
       "         -2.24700730e-01,  -8.89117177e-02,  -3.72140348e-01,\n",
       "          1.70179789e-01,  -3.47436021e-01,  -6.49804440e-01,\n",
       "         -4.50983184e-02,  -1.19339951e-01,   7.01123573e-02,\n",
       "         -5.87347646e-14],\n",
       "       [  2.90915554e-01,   1.91453785e-02,  -1.82515799e-03,\n",
       "          2.15647947e-04,  -1.64384578e-01,   1.48187409e-01,\n",
       "          7.67363048e-02,  -1.94164489e-03,   1.20457551e-01,\n",
       "          1.53893304e-02,   4.03134313e-02,  -1.66816478e-01,\n",
       "         -1.58780241e-01,  -1.89297997e-01,   1.67682413e-02,\n",
       "         -1.36188990e-01,   6.67569902e-01,  -5.38888987e-01,\n",
       "         -6.31375642e-13],\n",
       "       [  2.31240909e-01,  -1.13236514e-01,  -3.09954026e-01,\n",
       "         -2.95730883e-01,  -1.30966458e-01,  -2.16098089e-01,\n",
       "         -1.23851254e-01,   4.16300333e-01,  -1.83015714e-01,\n",
       "          3.39335946e-01,   5.75613138e-01,  -7.00986183e-03,\n",
       "         -2.14396180e-03,  -4.82504395e-02,   9.70655602e-03,\n",
       "         -2.25815630e-02,  -1.18498611e-01,  -2.60606674e-02,\n",
       "          3.69408038e-14],\n",
       "       [  2.34693114e-01,  -1.83572017e-01,  -1.90507705e-01,\n",
       "         -2.51270910e-01,  -1.20569850e-01,  -6.28608336e-01,\n",
       "          3.30929580e-01,  -8.15670393e-02,  -2.02254784e-01,\n",
       "         -2.07901779e-01,  -4.34073082e-01,   6.76674436e-02,\n",
       "         -1.67251116e-02,  -2.89901610e-02,   6.11136085e-02,\n",
       "         -5.10016974e-02,   3.66673295e-02,   2.81680820e-03,\n",
       "         -8.36614782e-15],\n",
       "       [  1.95243857e-01,  -8.82732459e-02,   3.77384746e-01,\n",
       "          3.19698672e-01,  -2.87611834e-01,  -4.48537514e-01,\n",
       "         -6.27307774e-01,  -9.39258068e-02,   1.28828008e-01,\n",
       "          4.92440438e-02,  -1.74822257e-02,   4.79337890e-02,\n",
       "         -3.75919797e-03,  -2.93600767e-02,  -1.57872896e-02,\n",
       "          2.14194304e-02,   2.90399085e-03,  -3.10361514e-04,\n",
       "          6.07120702e-15],\n",
       "       [  2.86830982e-01,   7.42374632e-03,  -1.18051626e-01,\n",
       "          1.10444719e-02,  -1.48207865e-01,   1.29042721e-01,\n",
       "          3.83574549e-02,  -6.02597211e-02,   2.31944191e-01,\n",
       "          1.02458177e-01,  -5.70512419e-02,  -9.47944196e-02,\n",
       "         -6.29396480e-03,   2.14461921e-01,  -4.36545907e-02,\n",
       "         -3.03697122e-01,   5.50938092e-02,   3.91895955e-01,\n",
       "          6.97544989e-01],\n",
       "       [ -2.82202846e-01,  -1.62664271e-02,   1.50231768e-01,\n",
       "         -1.06573769e-01,   1.40519390e-01,  -1.12949239e-01,\n",
       "         -6.48724299e-02,   3.36951635e-02,  -2.03062287e-01,\n",
       "         -1.04895026e-01,   5.14057529e-02,   8.14312371e-02,\n",
       "          1.88706572e-02,  -1.99265025e-01,   3.18593650e-02,\n",
       "          2.96373671e-01,  -5.55946103e-02,  -3.84847844e-01,\n",
       "          7.11827138e-01],\n",
       "       [ -2.89167270e-01,  -4.43155787e-02,  -4.03092494e-02,\n",
       "         -3.10582560e-02,   1.51917277e-01,  -1.86420424e-01,\n",
       "         -8.43652638e-02,   8.70926683e-02,  -1.34361696e-01,\n",
       "          1.88602586e-02,   8.62518341e-02,   1.75766832e-01,\n",
       "          2.57465069e-02,   3.03514440e-01,  -4.03898269e-01,\n",
       "          1.55396984e-01,   6.46741399e-01,   2.90193732e-01,\n",
       "         -3.83732469e-13],\n",
       "       [ -9.77545194e-03,  -7.80018765e-02,   2.99708286e-01,\n",
       "         -8.30633408e-01,  -4.09008011e-02,   1.17149532e-01,\n",
       "         -2.36692151e-01,  -2.19957501e-01,   2.10177867e-01,\n",
       "         -3.89728472e-02,  -3.90442536e-02,  -9.94254191e-02,\n",
       "          1.10197565e-01,   9.45040949e-02,  -9.47246101e-02,\n",
       "         -1.06706184e-02,  -1.39337527e-02,  -7.06935110e-03,\n",
       "         -8.20555543e-02],\n",
       "       [ -1.45221263e-01,  -5.55159789e-03,   5.80007922e-01,\n",
       "         -5.21927460e-02,  -3.85966143e-02,  -6.81558816e-02,\n",
       "          2.26618926e-01,   3.39775529e-01,  -2.11330292e-01,\n",
       "          8.32243006e-02,   8.37221909e-03,  -3.42450017e-01,\n",
       "         -2.70616977e-01,  -1.25604523e-01,   2.75997386e-01,\n",
       "         -1.32559688e-01,   1.18449623e-01,   3.17950234e-01,\n",
       "          3.51851680e-14],\n",
       "       [  2.10955114e-01,   8.72412402e-03,   4.41795599e-01,\n",
       "          6.17393694e-02,  -2.85102277e-01,   7.38405403e-02,\n",
       "          4.57498140e-01,   1.14772935e-01,   5.71747359e-03,\n",
       "          9.85571133e-02,   1.17344638e-01,   3.89376106e-01,\n",
       "          4.26861861e-01,   1.38233372e-01,  -2.13540554e-01,\n",
       "          1.04579857e-01,  -5.91322590e-02,  -1.03591788e-01,\n",
       "         -1.21480799e-14],\n",
       "       [  1.99672746e-01,  -3.81576659e-01,   3.16014235e-02,\n",
       "          2.20374591e-02,   2.27539705e-01,   2.81465251e-01,\n",
       "         -2.43578465e-01,   3.66126439e-01,  -2.40599004e-01,\n",
       "          2.39042875e-01,  -4.84968892e-01,   5.46415916e-02,\n",
       "          9.78440081e-02,   2.89824064e-01,   1.29040573e-01,\n",
       "          2.83352579e-02,   9.51288909e-03,  -1.56024067e-01,\n",
       "         -7.61168991e-15],\n",
       "       [  2.91242068e-01,   1.56891830e-02,  -2.74042091e-02,\n",
       "         -1.32785429e-02,  -1.46008312e-01,   1.04340003e-01,\n",
       "          8.87110416e-02,  -2.32463128e-04,   9.78241799e-02,\n",
       "         -1.87224995e-02,  -3.31952234e-02,  -1.67799260e-01,\n",
       "         -4.02483718e-01,   1.33631345e-01,  -5.40050769e-02,\n",
       "          7.96774984e-01,  -5.02695946e-02,   1.20857683e-01,\n",
       "          4.02008476e-13]])"
      ]
     },
     "execution_count": 40,
     "metadata": {},
     "output_type": "execute_result"
    }
   ],
   "source": [
    "cor_mat2 = np.corrcoef(X.T)\n",
    "\n",
    "eig_vals, eig_vecs = np.linalg.eig(cor_mat2)\n",
    "\n",
    "eig_vecs\n"
   ]
  },
  {
   "cell_type": "code",
   "execution_count": 41,
   "metadata": {},
   "outputs": [
    {
     "name": "stdout",
     "output_type": "stream",
     "text": [
      "Everything ok!\n"
     ]
    }
   ],
   "source": [
    "for ev in eig_vecs:\n",
    "    np.testing.assert_array_almost_equal(1.0, np.linalg.norm(ev))\n",
    "print('Everything ok!')"
   ]
  },
  {
   "cell_type": "code",
   "execution_count": 42,
   "metadata": {},
   "outputs": [
    {
     "name": "stdout",
     "output_type": "stream",
     "text": [
      "Eigenvalues in descending order:\n",
      "11.6274897827\n",
      "3.34775100479\n",
      "2.20119707458\n",
      "1.11627994065\n",
      "0.340539946039\n",
      "0.200848941717\n",
      "0.0860758803668\n",
      "0.0320025714023\n",
      "0.0183836448508\n",
      "0.0162763914063\n",
      "0.00495852505104\n",
      "0.00330132279465\n",
      "0.00219479861208\n",
      "0.00116937984729\n",
      "0.000803923777055\n",
      "0.000433364165409\n",
      "0.000183433880249\n",
      "0.000110073400908\n",
      "7.93665736947e-17\n"
     ]
    }
   ],
   "source": [
    "# Make a list of (eigenvalue, eigenvector) tuples\n",
    "eig_pairs = [(np.abs(eig_vals[i]), eig_vecs[:,i]) for i in range(len(eig_vals))]\n",
    "\n",
    "# Sort the (eigenvalue, eigenvector) tuples from high to low\n",
    "eig_pairs.sort(key=lambda x: x[0], reverse=True)\n",
    "\n",
    "# Visually confirm that the list is correctly sorted by decreasing eigenvalues\n",
    "print('Eigenvalues in descending order:')\n",
    "for i in eig_pairs:\n",
    "    print(i[0])"
   ]
  },
  {
   "cell_type": "code",
   "execution_count": 44,
   "metadata": {
    "collapsed": true
   },
   "outputs": [],
   "source": [
    "tot = sum(eig_vals)\n",
    "var_exp = [(i / tot)*100 for i in sorted(eig_vals, reverse=True)]\n",
    "cum_var_exp = np.cumsum(var_exp)"
   ]
  },
  {
   "cell_type": "code",
   "execution_count": 46,
   "metadata": {},
   "outputs": [
    {
     "data": {
      "image/png": "[encoded data removed]",
      "text/plain": [
       "<matplotlib.figure.Figure at 0x11442d320>"
      ]
     },
     "metadata": {},
     "output_type": "display_data"
    }
   ],
   "source": [
    "with plt.style.context('seaborn-whitegrid'):\n",
    "    plt.figure(figsize=(6, 4))\n",
    "\n",
    "    plt.bar(range(19), var_exp, alpha=0.5, align='center',\n",
    "            label='individual explained variance')\n",
    "    plt.step(range(19), cum_var_exp, where='mid',\n",
    "             label='cumulative explained variance')\n",
    "    plt.ylabel('Explained variance ratio')\n",
    "    plt.xlabel('Principal components')\n",
    "    plt.legend(loc='best')\n",
    "    plt.tight_layout()"
   ]
  },
  {
   "cell_type": "code",
   "execution_count": 48,
   "metadata": {},
   "outputs": [
    {
     "name": "stdout",
     "output_type": "stream",
     "text": [
      "Matrix W:\n",
      " [[ 0.16242731 -0.42049596]\n",
      " [ 0.18253333 -0.40342035]\n",
      " [-0.23762567 -0.28079166]\n",
      " [-0.25698873 -0.2451112 ]\n",
      " [-0.23487846 -0.25101945]\n",
      " [-0.1187098  -0.49207883]\n",
      " [ 0.28516397  0.08577745]\n",
      " [ 0.29091555  0.01914538]\n",
      " [ 0.23124091 -0.11323651]\n",
      " [ 0.23469311 -0.18357202]\n",
      " [ 0.19524386 -0.08827325]\n",
      " [ 0.28683098  0.00742375]\n",
      " [-0.28220285 -0.01626643]\n",
      " [-0.28916727 -0.04431558]\n",
      " [-0.00977545 -0.07800188]\n",
      " [-0.14522126 -0.0055516 ]\n",
      " [ 0.21095511  0.00872412]\n",
      " [ 0.19967275 -0.38157666]\n",
      " [ 0.29124207  0.01568918]]\n"
     ]
    }
   ],
   "source": [
    "matrix_w = np.hstack((eig_pairs[0][1].reshape(19,1),\n",
    "                      eig_pairs[1][1].reshape(19,1)))\n",
    "\n",
    "print('Matrix W:\\n', matrix_w)"
   ]
  },
  {
   "cell_type": "code",
   "execution_count": 65,
   "metadata": {},
   "outputs": [],
   "source": [
    "Y = X.dot(matrix_w)"
   ]
  },
  {
   "cell_type": "code",
   "execution_count": 66,
   "metadata": {},
   "outputs": [
    {
     "data": {
      "image/png": "[encoded data removed]",
      "text/plain": [
       "<matplotlib.figure.Figure at 0x114ee2e80>"
      ]
     },
     "metadata": {},
     "output_type": "display_data"
    }
   ],
   "source": [
    "with plt.style.context('seaborn-whitegrid'):\n",
    "    plt.figure(figsize=(6, 4))\n",
    "    for lab, col in zip(('Iris hexagona SS', 'Iris kimballiae', 'Iris rivularis','Iris savannarum'),\n",
    "                        ('blue', 'red', 'green','purple')):\n",
    "        plt.scatter(Y[y==lab, 0],\n",
    "                    Y[y==lab, 1],\n",
    "                    label=lab,\n",
    "                    c=col)\n",
    "    plt.xlabel('Principal Component 1')\n",
    "    plt.ylabel('Principal Component 2')\n",
    "    plt.legend(loc='upper right')\n",
    "    plt.tight_layout()\n",
    "    plt.savefig('irisPCA.pdf')"
   ]
  },
  {
   "cell_type": "code",
   "execution_count": null,
   "metadata": {
    "collapsed": true
   },
   "outputs": [],
   "source": []
  }
 ],
 "metadata": {
  "kernelspec": {
   "display_name": "Python 3",
   "language": "python",
   "name": "python3"
  },
  "language_info": {
   "codemirror_mode": {
    "name": "ipython",
    "version": 3
   },
   "file_extension": ".py",
   "mimetype": "text/x-python",
   "name": "python",
   "nbconvert_exporter": "python",
   "pygments_lexer": "ipython3",
   "version": "3.6.3"
  }
 },
 "nbformat": 4,
 "nbformat_minor": 1
}
