{
 "cells": [
  {
   "cell_type": "markdown",
   "metadata": {},
   "source": [
    "# Learning to visualize data using a sample Iris bioclim dataset\n",
    "    - First we need to load python packages to use\n",
    "    - we use the function import to load\n",
    "    - the function as lets us assign an abreviation for package\n",
    "    "
   ]
  },
  {
   "cell_type": "code",
   "execution_count": null,
   "metadata": {
    "collapsed": true,
    "scrolled": true
   },
   "outputs": [],
   "source": [
    "import pandas as pd\n",
    "import numpy as np\n",
    "from sklearn.decomposition import PCA\n",
    "from sklearn.discriminant_analysis import LinearDiscriminantAnalysis\n",
    "import warnings\n",
    "warnings.simplefilter(\"ignore\", category=DeprecationWarning)\n",
    "warnings.simplefilter(\"ignore\", category=FutureWarning)\n",
    "import matplotlib.pyplot as plt\n",
    "from matplotlib.backends.backend_pdf import PdfPages\n",
    "%matplotlib inline\n"
   ]
  },
  {
   "cell_type": "markdown",
   "metadata": {},
   "source": [
    "# Step 1 load the data\n",
    "    - Load in a dataset and save it as a dataframe named 'df \n",
    "    - use the .head() function on df to look at the top rows"
   ]
  },
  {
   "cell_type": "code",
   "execution_count": null,
   "metadata": {
    "collapsed": true,
    "scrolled": true
   },
   "outputs": [],
   "source": [
    "df = pd.read_csv(\"Iris_bioclim_val.csv\", sep=\",\")\n",
    "df.head()"
   ]
  },
  {
   "cell_type": "markdown",
   "metadata": {},
   "source": [
    "# Dealing with duplicates\n",
    "    - notice rows 3 and 4 are duplicate occurences.  We need to remove these.\n",
    "The resolution of bioclim layers is ~1sq kilometer. so we don't want multiple points within the same grid square.  Just to be on the conservative side we will round lat/lon to 3 decimal places and remove anything duplicated"
   ]
  },
  {
   "cell_type": "code",
   "execution_count": null,
   "metadata": {
    "collapsed": true,
    "scrolled": true
   },
   "outputs": [],
   "source": [
    "df.lon = df.lon.round(3)\n",
    "df.lat = df.lat.round(3)\n",
    "df = df.drop_duplicates(subset=['lat','lon'],keep='first')\n",
    "df.head()"
   ]
  },
  {
   "cell_type": "markdown",
   "metadata": {},
   "source": [
    "# Now that our dataset is deduplicated we can start to explore the dataset\n",
    "    -Similair to using .head(), we can use .boxplot() function\n",
    "        \n",
    "    -Let's look at the first bioclim variable (column bio_1), and group by species\n",
    "            "
   ]
  },
  {
   "cell_type": "code",
   "execution_count": null,
   "metadata": {
    "collapsed": true,
    "scrolled": true
   },
   "outputs": [],
   "source": [
    "df.boxplot(column='bio_1', by='species')"
   ]
  },
  {
   "cell_type": "markdown",
   "metadata": {},
   "source": [
    "# Using a For loop to automate graphing\n",
    "    - We have 19 different variables, so it would be tedius to code each plot\n",
    "    - We can write a loop that will iterate through each column, adding each as a subplot\n",
    "    - look at the code comments for details \n",
    "            -comments are preceeded by a '#' and will be ignored by python\n",
    "            -try changing values, and commenting out lines of code to see what happens"
   ]
  },
  {
   "cell_type": "code",
   "execution_count": null,
   "metadata": {
    "collapsed": true
   },
   "outputs": [],
   "source": [
    "fig1 = plt.figure(figsize=(6,19)) #We create an empty plot and set the dimensions\n",
    "count=0 # we will make a variable named count to help us below\n",
    "\n",
    "for i in range(4,len(df.columns)): #Here we loop the variable i from a value of 4 to the total number of columns (23)\n",
    "    bio = df.columns[i]   #variable saving the name of column number i  (when i = 5 bio = bio_13)\n",
    "    count += 1  #increase our counter by 1 each iteration through the loop\n",
    "    ax = fig1.add_subplot(9,2,count) #use our count number to set the subplot position \n",
    "    df.boxplot(column=bio, by='species', ax=ax) #plot the subplot\n",
    "    ax.set_xticklabels([]) #cleaning up extra axis labels - it gets messy labeling all subplots\n",
    "    ax.set_xlabel('')\n",
    "fig1.subplots_adjust(hspace=.4) #adjust the spacing\n",
    "plt.savefig('irisplot.pdf')  #save our final plot as a pdf,  we can add the species labels later"
   ]
  },
  {
   "cell_type": "markdown",
   "metadata": {},
   "source": [
    "# PCA methods  -- explainations in progress"
   ]
  },
  {
   "cell_type": "code",
   "execution_count": null,
   "metadata": {
    "collapsed": true
   },
   "outputs": [],
   "source": [
    "#split table into data x and species y\n",
    "X= df.ix[:,3:22].values\n",
    "y= df.ix[:,2].values\n"
   ]
  },
  {
   "cell_type": "code",
   "execution_count": null,
   "metadata": {
    "collapsed": true,
    "scrolled": true
   },
   "outputs": [],
   "source": [
    "pca = PCA(n_components=2)\n",
    "X_r = pca.fit(X).transform(X)\n",
    "plt.figure()\n",
    "lw = 2\n",
    "\n",
    "for lab, col in zip(('Iris hexagona SS', 'Iris kimballiae', 'Iris rivularis','Iris savannarum'),\n",
    "                        ('blue', 'red', 'green','purple')):\n",
    "    plt.scatter(X_r[y == lab, 0], X_r[y == lab, 1], c=col, alpha=.8, lw=lw,\n",
    "                label=lab)    \n",
    "    plt.xlabel('Principal Component 1')\n",
    "    plt.ylabel('Principal Component 2')\n",
    "plt.legend(loc='best', shadow=False, scatterpoints=1)\n",
    "plt.title('PCA of IRIS dataset')"
   ]
  },
  {
   "cell_type": "code",
   "execution_count": null,
   "metadata": {
    "collapsed": true
   },
   "outputs": [],
   "source": [
    "# Percentage of variance explained for each components\n",
    "print('explained variance ratio (first two components): %s'\n",
    "      % str(pca.explained_variance_ratio_))\n"
   ]
  }
 ],
 "metadata": {
  "kernelspec": {
   "display_name": "Python 3",
   "language": "python",
   "name": "python3"
  },
  "language_info": {
   "codemirror_mode": {
    "name": "ipython",
    "version": 3
   },
   "file_extension": ".py",
   "mimetype": "text/x-python",
   "name": "python",
   "nbconvert_exporter": "python",
   "pygments_lexer": "ipython3",
   "version": "3.6.3"
  }
 },
 "nbformat": 4,
 "nbformat_minor": 1
}
